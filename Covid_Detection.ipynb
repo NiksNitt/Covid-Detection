{
  "nbformat": 4,
  "nbformat_minor": 0,
  "metadata": {
    "colab": {
      "name": "Covid_Detection",
      "provenance": [],
      "collapsed_sections": []
    },
    "kernelspec": {
      "name": "python3",
      "display_name": "Python 3"
    },
    "language_info": {
      "name": "python"
    },
    "accelerator": "GPU"
  },
  "cells": [
    {
      "cell_type": "code",
      "metadata": {
        "colab": {
          "base_uri": "https://localhost:8080/"
        },
        "id": "UxAcIRSU8iQl",
        "outputId": "1164b4a0-6190-4121-c545-3e9644ce2212"
      },
      "source": [
        "## importing dataset from drive\n",
        "from google.colab import drive\n",
        "drive.mount('/content/drive',force_remount=True)"
      ],
      "execution_count": 1,
      "outputs": [
        {
          "output_type": "stream",
          "name": "stdout",
          "text": [
            "Mounted at /content/drive\n"
          ]
        }
      ]
    },
    {
      "cell_type": "code",
      "metadata": {
        "id": "G0Fa40P3-w6L"
      },
      "source": [
        "TRAIN_PATH=\"/content/drive/MyDrive/Dataset/train\"\n",
        "TEST_PATH=\"/content/drive/MyDrive/Dataset/test\""
      ],
      "execution_count": 2,
      "outputs": []
    },
    {
      "cell_type": "code",
      "metadata": {
        "id": "7_K-HHqins7K"
      },
      "source": [
        "import numpy as np\n",
        "import matplotlib.pyplot as plt\n",
        "import keras\n",
        "from keras.layers import *\n",
        "from keras.models import *\n",
        "from keras.preprocessing import image"
      ],
      "execution_count": 3,
      "outputs": []
    },
    {
      "cell_type": "code",
      "metadata": {
        "id": "vKAkKUqKo3rV"
      },
      "source": [
        "## CNN Based Model in Keras\n",
        "\n",
        "model=Sequential()\n",
        "model.add(Conv2D(32,kernel_size=(3,3),activation='relu',input_shape=(224,224,3)))\n",
        "model.add(Conv2D(64,(3,3),activation='relu'))\n",
        "model.add(MaxPooling2D(pool_size=(2,2)))\n",
        "model.add(Dropout(0.25))\n",
        "\n",
        "\n",
        "model.add(Conv2D(64,(3,3),activation='relu'))\n",
        "model.add(MaxPooling2D(pool_size=(2,2)))\n",
        "model.add(Dropout(0.25))\n",
        "\n",
        "model.add(Conv2D(128,(3,3),activation='relu'))\n",
        "model.add(MaxPooling2D(pool_size=(2,2)))\n",
        "model.add(Dropout(0.25))\n",
        "\n",
        "model.add(Conv2D(256,(3,3),activation='relu'))\n",
        "model.add(MaxPooling2D(pool_size=(2,2)))\n",
        "model.add(Dropout(0.25))\n",
        "\n",
        "model.add(Flatten())\n",
        "model.add(Dense(64,activation='relu'))\n",
        "model.add(Dropout(0.25))\n",
        "\n",
        "model.add(Dense(1,activation='sigmoid'))\n",
        "model.compile(loss=keras.losses.binary_crossentropy,optimizer='adam',metrics=['accuracy'])\n"
      ],
      "execution_count": 4,
      "outputs": []
    },
    {
      "cell_type": "code",
      "metadata": {
        "colab": {
          "base_uri": "https://localhost:8080/"
        },
        "id": "Q1eoTAvVsHAJ",
        "outputId": "e6b3f4aa-4670-438e-ab69-8578afcab58b"
      },
      "source": [
        "model.summary()"
      ],
      "execution_count": 5,
      "outputs": [
        {
          "output_type": "stream",
          "name": "stdout",
          "text": [
            "Model: \"sequential\"\n",
            "_________________________________________________________________\n",
            " Layer (type)                Output Shape              Param #   \n",
            "=================================================================\n",
            " conv2d (Conv2D)             (None, 222, 222, 32)      896       \n",
            "                                                                 \n",
            " conv2d_1 (Conv2D)           (None, 220, 220, 64)      18496     \n",
            "                                                                 \n",
            " max_pooling2d (MaxPooling2D  (None, 110, 110, 64)     0         \n",
            " )                                                               \n",
            "                                                                 \n",
            " dropout (Dropout)           (None, 110, 110, 64)      0         \n",
            "                                                                 \n",
            " conv2d_2 (Conv2D)           (None, 108, 108, 64)      36928     \n",
            "                                                                 \n",
            " max_pooling2d_1 (MaxPooling  (None, 54, 54, 64)       0         \n",
            " 2D)                                                             \n",
            "                                                                 \n",
            " dropout_1 (Dropout)         (None, 54, 54, 64)        0         \n",
            "                                                                 \n",
            " conv2d_3 (Conv2D)           (None, 52, 52, 128)       73856     \n",
            "                                                                 \n",
            " max_pooling2d_2 (MaxPooling  (None, 26, 26, 128)      0         \n",
            " 2D)                                                             \n",
            "                                                                 \n",
            " dropout_2 (Dropout)         (None, 26, 26, 128)       0         \n",
            "                                                                 \n",
            " conv2d_4 (Conv2D)           (None, 24, 24, 256)       295168    \n",
            "                                                                 \n",
            " max_pooling2d_3 (MaxPooling  (None, 12, 12, 256)      0         \n",
            " 2D)                                                             \n",
            "                                                                 \n",
            " dropout_3 (Dropout)         (None, 12, 12, 256)       0         \n",
            "                                                                 \n",
            " flatten (Flatten)           (None, 36864)             0         \n",
            "                                                                 \n",
            " dense (Dense)               (None, 64)                2359360   \n",
            "                                                                 \n",
            " dropout_4 (Dropout)         (None, 64)                0         \n",
            "                                                                 \n",
            " dense_1 (Dense)             (None, 1)                 65        \n",
            "                                                                 \n",
            "=================================================================\n",
            "Total params: 2,784,769\n",
            "Trainable params: 2,784,769\n",
            "Non-trainable params: 0\n",
            "_________________________________________________________________\n"
          ]
        }
      ]
    },
    {
      "cell_type": "code",
      "metadata": {
        "id": "EojmCU8a_bbK"
      },
      "source": [
        "### Training\n",
        "train_datagen=image.ImageDataGenerator(\n",
        "    rescale=1./255,\n",
        "    shear_range=0.2,\n",
        "    zoom_range=0.2,\n",
        "    horizontal_flip=True\n",
        ")\n",
        "test_datagen=image.ImageDataGenerator(rescale=1./255)"
      ],
      "execution_count": 6,
      "outputs": []
    },
    {
      "cell_type": "code",
      "metadata": {
        "colab": {
          "base_uri": "https://localhost:8080/"
        },
        "id": "ppXySYrZAZG_",
        "outputId": "5e11d6e0-6bf7-44fc-ac5e-56e6fc6df683"
      },
      "source": [
        "train_generator=train_datagen.flow_from_directory(\n",
        "    TRAIN_PATH,\n",
        "    target_size=(224,224),\n",
        "    batch_size=32,\n",
        "    class_mode='binary'\n",
        ")"
      ],
      "execution_count": 7,
      "outputs": [
        {
          "output_type": "stream",
          "name": "stdout",
          "text": [
            "Found 312 images belonging to 2 classes.\n"
          ]
        }
      ]
    },
    {
      "cell_type": "code",
      "metadata": {
        "colab": {
          "base_uri": "https://localhost:8080/"
        },
        "id": "Ehaq5iJKBvMQ",
        "outputId": "913e043d-44d6-4ebb-9eb8-2c83a39179fb"
      },
      "source": [
        "## label of dataset\n",
        "train_generator.class_indices"
      ],
      "execution_count": 8,
      "outputs": [
        {
          "output_type": "execute_result",
          "data": {
            "text/plain": [
              "{'Covid': 0, 'Normal': 1}"
            ]
          },
          "metadata": {},
          "execution_count": 8
        }
      ]
    },
    {
      "cell_type": "code",
      "metadata": {
        "colab": {
          "base_uri": "https://localhost:8080/"
        },
        "id": "T8NmcQTSBk9a",
        "outputId": "4def6eee-59e1-4315-ec9d-93f66ecac978"
      },
      "source": [
        "test_generator=train_datagen.flow_from_directory(\n",
        "    TEST_PATH,\n",
        "    target_size=(224,224),\n",
        "    batch_size=32,\n",
        "    class_mode='binary'\n",
        ")"
      ],
      "execution_count": 9,
      "outputs": [
        {
          "output_type": "stream",
          "name": "stdout",
          "text": [
            "Found 80 images belonging to 2 classes.\n"
          ]
        }
      ]
    },
    {
      "cell_type": "code",
      "metadata": {
        "id": "juf6sEZOojNf"
      },
      "source": [
        "train_generator.reset()\n",
        "test_generator.reset()"
      ],
      "execution_count": 10,
      "outputs": []
    },
    {
      "cell_type": "code",
      "metadata": {
        "colab": {
          "base_uri": "https://localhost:8080/"
        },
        "id": "RHqantf1Cxz5",
        "outputId": "77ffd1a4-b21b-4d13-bd58-153be9634677"
      },
      "source": [
        "hist=model.fit_generator(\n",
        "    train_generator,\n",
        "    steps_per_epoch=8,\n",
        "    epochs=10,\n",
        "    validation_data=test_generator,\n",
        "    validation_steps=2\n",
        ")"
      ],
      "execution_count": 11,
      "outputs": [
        {
          "output_type": "stream",
          "name": "stderr",
          "text": [
            "/usr/local/lib/python3.7/dist-packages/ipykernel_launcher.py:6: UserWarning: `Model.fit_generator` is deprecated and will be removed in a future version. Please use `Model.fit`, which supports generators.\n",
            "  \n"
          ]
        },
        {
          "output_type": "stream",
          "name": "stdout",
          "text": [
            "Epoch 1/10\n",
            "8/8 [==============================] - 232s 25s/step - loss: 0.8894 - accuracy: 0.5524 - val_loss: 0.6925 - val_accuracy: 0.5312\n",
            "Epoch 2/10\n",
            "8/8 [==============================] - 32s 4s/step - loss: 0.6821 - accuracy: 0.5444 - val_loss: 0.6823 - val_accuracy: 0.7500\n",
            "Epoch 3/10\n",
            "8/8 [==============================] - 17s 2s/step - loss: 0.5651 - accuracy: 0.7218 - val_loss: 0.5425 - val_accuracy: 0.6250\n",
            "Epoch 4/10\n",
            "8/8 [==============================] - 14s 2s/step - loss: 0.4399 - accuracy: 0.8185 - val_loss: 0.4629 - val_accuracy: 0.8438\n",
            "Epoch 5/10\n",
            "8/8 [==============================] - 13s 2s/step - loss: 0.2652 - accuracy: 0.9194 - val_loss: 0.3487 - val_accuracy: 0.8906\n",
            "Epoch 6/10\n",
            "8/8 [==============================] - 13s 2s/step - loss: 0.2268 - accuracy: 0.9219 - val_loss: 0.3841 - val_accuracy: 0.8281\n",
            "Epoch 7/10\n",
            "8/8 [==============================] - 13s 2s/step - loss: 0.2542 - accuracy: 0.8992 - val_loss: 0.2831 - val_accuracy: 0.8906\n",
            "Epoch 8/10\n",
            "8/8 [==============================] - 13s 2s/step - loss: 0.1433 - accuracy: 0.9637 - val_loss: 0.2462 - val_accuracy: 0.9688\n",
            "Epoch 9/10\n",
            "8/8 [==============================] - 14s 2s/step - loss: 0.1909 - accuracy: 0.9414 - val_loss: 0.2360 - val_accuracy: 0.9219\n",
            "Epoch 10/10\n",
            "8/8 [==============================] - 14s 2s/step - loss: 0.1953 - accuracy: 0.9375 - val_loss: 0.3580 - val_accuracy: 0.9531\n"
          ]
        }
      ]
    },
    {
      "cell_type": "code",
      "metadata": {
        "id": "4sxD25BBf7R2"
      },
      "source": [
        "### save the model\n",
        "model.save('/content/drive/MyDrive/Dataset/model1.h5')"
      ],
      "execution_count": 17,
      "outputs": []
    },
    {
      "cell_type": "code",
      "metadata": {
        "id": "kSDdBL6rgSB-"
      },
      "source": [
        "from keras.models import load_model\n",
        "model_=load_model('/content/drive/MyDrive/Dataset/model1.h5')"
      ],
      "execution_count": 18,
      "outputs": []
    },
    {
      "cell_type": "code",
      "metadata": {
        "colab": {
          "base_uri": "https://localhost:8080/"
        },
        "id": "C4fQDYtCJWwJ",
        "outputId": "ef8ccede-d061-4e1d-9f8d-23013e192cdf"
      },
      "source": [
        "### prediction with model\n",
        "PATH=\"/content/drive/MyDrive/Dataset/test/Normal/NORMAL2-IM-1328-0001.jpeg\"\n",
        "img=image.load_img(PATH,target_size=(224,224))\n",
        "\n",
        "img=image.img_to_array(img)/255\n",
        "img=np.array([img])\n",
        "img.shape"
      ],
      "execution_count": 23,
      "outputs": [
        {
          "output_type": "execute_result",
          "data": {
            "text/plain": [
              "(1, 224, 224, 3)"
            ]
          },
          "metadata": {},
          "execution_count": 23
        }
      ]
    },
    {
      "cell_type": "code",
      "metadata": {
        "colab": {
          "base_uri": "https://localhost:8080/"
        },
        "id": "SvhPx1r4T7Az",
        "outputId": "21f8dd98-9d62-4919-8ee4-2921ecb5bdea"
      },
      "source": [
        "model_.predict(img)"
      ],
      "execution_count": 24,
      "outputs": [
        {
          "output_type": "execute_result",
          "data": {
            "text/plain": [
              "array([[0.7807994]], dtype=float32)"
            ]
          },
          "metadata": {},
          "execution_count": 24
        }
      ]
    },
    {
      "cell_type": "code",
      "metadata": {
        "colab": {
          "base_uri": "https://localhost:8080/",
          "height": 312
        },
        "id": "CVj1EMfLpXre",
        "outputId": "a610c8d9-ef27-4f62-84a6-4c525831b5e5"
      },
      "source": [
        "# Plot the accuracy curves for training and validation \n",
        "plt.plot(hist.history['accuracy'], color='b', label=\"Training accuracy\")\n",
        "plt.plot(hist.history['val_accuracy'], color='r', label=\"validation accuracy\")\n",
        "plt.title('model accuracy')\n",
        "plt.ylabel('accuracy')\n",
        "plt.xlabel('epoch')\n",
        "plt.legend(['train','test'],loc='lower right')"
      ],
      "execution_count": 21,
      "outputs": [
        {
          "output_type": "execute_result",
          "data": {
            "text/plain": [
              "<matplotlib.legend.Legend at 0x7f331765b650>"
            ]
          },
          "metadata": {},
          "execution_count": 21
        },
        {
          "output_type": "display_data",
          "data": {
            "image/png": "[encoded data removed]",
            "text/plain": [
              "<Figure size 432x288 with 1 Axes>"
            ]
          },
          "metadata": {
            "needs_background": "light"
          }
        }
      ]
    },
    {
      "cell_type": "code",
      "metadata": {
        "colab": {
          "base_uri": "https://localhost:8080/",
          "height": 312
        },
        "id": "VutPgvDsd2Jk",
        "outputId": "ba52abf2-1b68-4f7c-b680-60f636689e76"
      },
      "source": [
        "# Plot the loss curves for training and validation \n",
        "plt.plot(hist.history['loss'], color='b', label=\"Training loss\")\n",
        "plt.plot(hist.history['val_loss'], color='r', label=\"validation loss\")\n",
        "plt.title('model loss')\n",
        "plt.ylabel('loss')\n",
        "plt.xlabel('epoch')\n",
        "plt.legend(['train','test'],loc='upper right')"
      ],
      "execution_count": 22,
      "outputs": [
        {
          "output_type": "execute_result",
          "data": {
            "text/plain": [
              "<matplotlib.legend.Legend at 0x7f33160e8090>"
            ]
          },
          "metadata": {},
          "execution_count": 22
        },
        {
          "output_type": "display_data",
          "data": {
            "image/png": "[encoded data removed]",
            "text/plain": [
              "<Figure size 432x288 with 1 Axes>"
            ]
          },
          "metadata": {
            "needs_background": "light"
          }
        }
      ]
    },
    {
      "cell_type": "markdown",
      "metadata": {
        "id": "EoJsgfvYyWDZ"
      },
      "source": [
        "# **USING PRE-TRAINED MODEL VGG16 **"
      ]
    },
    {
      "cell_type": "code",
      "metadata": {
        "id": "nLLxMdK8wH6j"
      },
      "source": [
        "from keras.applications.vgg16 import VGG16\n",
        "HEIGHT=224\n",
        "WIDTH=224\n",
        "CHANNEL=3"
      ],
      "execution_count": 25,
      "outputs": []
    },
    {
      "cell_type": "code",
      "metadata": {
        "id": "ZI7tzs_hvhm8",
        "colab": {
          "base_uri": "https://localhost:8080/"
        },
        "outputId": "9de3ee46-fa73-452c-f505-c051851f0dbc"
      },
      "source": [
        "new_model=Sequential()\n",
        "\n",
        "new_model.add(VGG16(weights=\"imagenet\", include_top=False, input_shape=(HEIGHT, WIDTH, CHANNEL)))\n",
        "new_model.add(Flatten())\n",
        "new_model.add(Dense(128, activation=\"relu\"))\n",
        "new_model.add(Dense(64, activation=\"relu\"))\n",
        "new_model.add(Dense(64, activation=\"relu\"))\n",
        "new_model.add(Dense(1,activation='sigmoid'))\n",
        "new_model.layers[-6].trainable = False\n",
        "\n",
        "new_model.compile(loss=keras.losses.binary_crossentropy,optimizer='adam',metrics=['accuracy'])"
      ],
      "execution_count": 26,
      "outputs": [
        {
          "output_type": "stream",
          "name": "stdout",
          "text": [
            "Downloading data from https://storage.googleapis.com/tensorflow/keras-applications/vgg16/vgg16_weights_tf_dim_ordering_tf_kernels_notop.h5\n",
            "58892288/58889256 [==============================] - 1s 0us/step\n",
            "58900480/58889256 [==============================] - 1s 0us/step\n"
          ]
        }
      ]
    },
    {
      "cell_type": "code",
      "metadata": {
        "colab": {
          "base_uri": "https://localhost:8080/"
        },
        "id": "YJ06AphTxd7C",
        "outputId": "229900b2-7553-42b7-9ad2-7ada67e6e059"
      },
      "source": [
        "model.summary()"
      ],
      "execution_count": 27,
      "outputs": [
        {
          "output_type": "stream",
          "name": "stdout",
          "text": [
            "Model: \"sequential\"\n",
            "_________________________________________________________________\n",
            " Layer (type)                Output Shape              Param #   \n",
            "=================================================================\n",
            " conv2d (Conv2D)             (None, 222, 222, 32)      896       \n",
            "                                                                 \n",
            " conv2d_1 (Conv2D)           (None, 220, 220, 64)      18496     \n",
            "                                                                 \n",
            " max_pooling2d (MaxPooling2D  (None, 110, 110, 64)     0         \n",
            " )                                                               \n",
            "                                                                 \n",
            " dropout (Dropout)           (None, 110, 110, 64)      0         \n",
            "                                                                 \n",
            " conv2d_2 (Conv2D)           (None, 108, 108, 64)      36928     \n",
            "                                                                 \n",
            " max_pooling2d_1 (MaxPooling  (None, 54, 54, 64)       0         \n",
            " 2D)                                                             \n",
            "                                                                 \n",
            " dropout_1 (Dropout)         (None, 54, 54, 64)        0         \n",
            "                                                                 \n",
            " conv2d_3 (Conv2D)           (None, 52, 52, 128)       73856     \n",
            "                                                                 \n",
            " max_pooling2d_2 (MaxPooling  (None, 26, 26, 128)      0         \n",
            " 2D)                                                             \n",
            "                                                                 \n",
            " dropout_2 (Dropout)         (None, 26, 26, 128)       0         \n",
            "                                                                 \n",
            " conv2d_4 (Conv2D)           (None, 24, 24, 256)       295168    \n",
            "                                                                 \n",
            " max_pooling2d_3 (MaxPooling  (None, 12, 12, 256)      0         \n",
            " 2D)                                                             \n",
            "                                                                 \n",
            " dropout_3 (Dropout)         (None, 12, 12, 256)       0         \n",
            "                                                                 \n",
            " flatten (Flatten)           (None, 36864)             0         \n",
            "                                                                 \n",
            " dense (Dense)               (None, 64)                2359360   \n",
            "                                                                 \n",
            " dropout_4 (Dropout)         (None, 64)                0         \n",
            "                                                                 \n",
            " dense_1 (Dense)             (None, 1)                 65        \n",
            "                                                                 \n",
            "=================================================================\n",
            "Total params: 2,784,769\n",
            "Trainable params: 2,784,769\n",
            "Non-trainable params: 0\n",
            "_________________________________________________________________\n"
          ]
        }
      ]
    },
    {
      "cell_type": "code",
      "metadata": {
        "colab": {
          "base_uri": "https://localhost:8080/"
        },
        "id": "Vj0jzmhywqKG",
        "outputId": "ae2cbf73-d31e-45b0-9aa3-a34a17be9d04"
      },
      "source": [
        "hist1=new_model.fit_generator(\n",
        "    train_generator,\n",
        "    steps_per_epoch=8,\n",
        "    epochs=10,\n",
        "    validation_data=test_generator,\n",
        "    validation_steps=2\n",
        ")"
      ],
      "execution_count": 28,
      "outputs": [
        {
          "output_type": "stream",
          "name": "stderr",
          "text": [
            "/usr/local/lib/python3.7/dist-packages/ipykernel_launcher.py:6: UserWarning: `Model.fit_generator` is deprecated and will be removed in a future version. Please use `Model.fit`, which supports generators.\n",
            "  \n"
          ]
        },
        {
          "output_type": "stream",
          "name": "stdout",
          "text": [
            "Epoch 1/10\n",
            "8/8 [==============================] - 24s 2s/step - loss: 0.5079 - accuracy: 0.7578 - val_loss: 0.1771 - val_accuracy: 0.9531\n",
            "Epoch 2/10\n",
            "8/8 [==============================] - 19s 3s/step - loss: 0.0646 - accuracy: 0.9758 - val_loss: 0.0570 - val_accuracy: 0.9688\n",
            "Epoch 3/10\n",
            "8/8 [==============================] - 13s 2s/step - loss: 0.0745 - accuracy: 0.9798 - val_loss: 0.0282 - val_accuracy: 0.9844\n",
            "Epoch 4/10\n",
            "8/8 [==============================] - 13s 2s/step - loss: 0.0208 - accuracy: 0.9879 - val_loss: 0.0071 - val_accuracy: 1.0000\n",
            "Epoch 5/10\n",
            "8/8 [==============================] - 13s 2s/step - loss: 0.0222 - accuracy: 0.9879 - val_loss: 0.0234 - val_accuracy: 1.0000\n",
            "Epoch 6/10\n",
            "8/8 [==============================] - 13s 2s/step - loss: 0.0062 - accuracy: 1.0000 - val_loss: 0.0338 - val_accuracy: 0.9844\n",
            "Epoch 7/10\n",
            "8/8 [==============================] - 13s 2s/step - loss: 0.0389 - accuracy: 0.9879 - val_loss: 0.0637 - val_accuracy: 0.9688\n",
            "Epoch 8/10\n",
            "8/8 [==============================] - 13s 2s/step - loss: 0.0420 - accuracy: 0.9758 - val_loss: 0.1693 - val_accuracy: 0.8750\n",
            "Epoch 9/10\n",
            "8/8 [==============================] - 13s 2s/step - loss: 0.1046 - accuracy: 0.9718 - val_loss: 0.0160 - val_accuracy: 0.9844\n",
            "Epoch 10/10\n",
            "8/8 [==============================] - 13s 2s/step - loss: 0.0401 - accuracy: 0.9839 - val_loss: 0.0358 - val_accuracy: 0.9844\n"
          ]
        }
      ]
    },
    {
      "cell_type": "code",
      "metadata": {
        "id": "RXUUqYe_y8dv"
      },
      "source": [
        "### save the model\n",
        "model.save('/content/drive/MyDrive/Dataset/vgg16_model1.h5')"
      ],
      "execution_count": 29,
      "outputs": []
    },
    {
      "cell_type": "code",
      "metadata": {
        "id": "yYrg5cjyhR2v"
      },
      "source": [
        "from keras.models import load_model\n",
        "new_model=load_model('/content/drive/MyDrive/Dataset/vgg16_model1.h5')"
      ],
      "execution_count": 31,
      "outputs": []
    },
    {
      "cell_type": "code",
      "metadata": {
        "colab": {
          "base_uri": "https://localhost:8080/"
        },
        "id": "AEHJt7SnziMw",
        "outputId": "66152755-2d50-4579-ddf7-bc7a2c206684"
      },
      "source": [
        "new_model.predict(img)"
      ],
      "execution_count": 32,
      "outputs": [
        {
          "output_type": "execute_result",
          "data": {
            "text/plain": [
              "array([[0.7807994]], dtype=float32)"
            ]
          },
          "metadata": {},
          "execution_count": 32
        }
      ]
    },
    {
      "cell_type": "code",
      "metadata": {
        "colab": {
          "base_uri": "https://localhost:8080/",
          "height": 312
        },
        "id": "aH4NA0GPzuv_",
        "outputId": "21b2faf9-c1e5-45d6-a13a-c3e0a4c528fb"
      },
      "source": [
        "# Plot the accuracy curves for training and validation \n",
        "plt.plot(hist.history['accuracy'], color='b', label=\"Training accuracy\")\n",
        "plt.plot(hist.history['val_accuracy'], color='r', label=\"validation accuracy\")\n",
        "plt.title('model accuracy')\n",
        "plt.ylabel('accuracy')\n",
        "plt.xlabel('epoch')\n",
        "plt.legend(['train','test'],loc='lower right')"
      ],
      "execution_count": 33,
      "outputs": [
        {
          "output_type": "execute_result",
          "data": {
            "text/plain": [
              "<matplotlib.legend.Legend at 0x7f3317e16f50>"
            ]
          },
          "metadata": {},
          "execution_count": 33
        },
        {
          "output_type": "display_data",
          "data": {
            "image/png": "[encoded data removed]",
            "text/plain": [
              "<Figure size 432x288 with 1 Axes>"
            ]
          },
          "metadata": {
            "needs_background": "light"
          }
        }
      ]
    },
    {
      "cell_type": "code",
      "metadata": {
        "colab": {
          "base_uri": "https://localhost:8080/",
          "height": 312
        },
        "id": "9Q-FmZK4hx5M",
        "outputId": "3531e7ed-2b92-4a2e-fbfe-0162d9326ad3"
      },
      "source": [
        "# Plot the loss curves for training and validation \n",
        "plt.plot(hist.history['loss'], color='b', label=\"Training loss\")\n",
        "plt.plot(hist.history['val_loss'], color='r', label=\"validation loss\")\n",
        "plt.title('model loss')\n",
        "plt.ylabel('loss')\n",
        "plt.xlabel('epoch')\n",
        "plt.legend(['train','test'],loc='upper right')"
      ],
      "execution_count": 34,
      "outputs": [
        {
          "output_type": "execute_result",
          "data": {
            "text/plain": [
              "<matplotlib.legend.Legend at 0x7f331577eb90>"
            ]
          },
          "metadata": {},
          "execution_count": 34
        },
        {
          "output_type": "display_data",
          "data": {
            "image/png": "[encoded data removed]",
            "text/plain": [
              "<Figure size 432x288 with 1 Axes>"
            ]
          },
          "metadata": {
            "needs_background": "light"
          }
        }
      ]
    }
  ]
}